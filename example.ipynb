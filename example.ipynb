{
 "cells": [
  {
   "cell_type": "markdown",
   "metadata": {},
   "source": [
    "# Example of convertanything with ezlocalai\n",
    "\n",
    "The `convertanything` package will convert any given string into a pydantic model. This notebook demonstrates how to use `convertanything` with any OpenAI style endpoint server. We will use [ezlocalai](https://github.com/DevXT-LLC/ezlocalai) for this example.\n",
    "\n",
    "If you don't have an OpenAI style endpoint server set up, set up [ezlocalai](https://github.com/DevXT-LLC/ezlocalai) either locally or on [Google Colab with this notebook in the link.](https://github.com/DevXT-LLC/ezlocalai/blob/main/ezlocalai-ngrok.ipynb)\n",
    "\n",
    "In this example with [ezlocalai](https://github.com/DevXT-LLC/ezlocalai), we run a 1.1B model called [TinyLlama-1.1B-Chat-v1.0](https://huggingface.co/TinyLlama/TinyLlama-1.1B-Chat-v1.0) locally to convert anything to any pydantic model.\n",
    "\n",
    "Alternatively, to use with OpenAI API, you can remove the `server` and `llm` parameters and enter your OpenAI API key in the `api_key` parameter to use OpenAI API with the `gpt-3.5-turbo-16k` model or define which LLM you want to use with the `llm` parameter.\n"
   ]
  },
  {
   "cell_type": "markdown",
   "metadata": {},
   "source": [
    "### ezLocalai\n",
    "\n",
    "To use with [ezLocalai](https://github.com/DevXT-LLC/ezlocalai) in Python, make sure your ezLocalai server is running then run the following code:\n"
   ]
  },
  {
   "cell_type": "code",
   "execution_count": 4,
   "metadata": {},
   "outputs": [
    {
     "name": "stdout",
     "output_type": "stream",
     "text": [
      "name='John Doe' age=30 email='johndoe@example.com' interests=['fishing', 'watching football']\n"
     ]
    }
   ],
   "source": [
    "from convertanything import convertanything\n",
    "from pydantic import BaseModel\n",
    "from typing import List\n",
    "\n",
    "\n",
    "class Person(BaseModel):\n",
    "    name: str\n",
    "    age: int\n",
    "    email: str\n",
    "    interests: List[str]\n",
    "\n",
    "\n",
    "response = convertanything(\n",
    "    input_string=\"Hi my name is John Doe, I am 30 years old, my email is johndoe@example.com . I like to go fishing and watching football.\",\n",
    "    model=Person,\n",
    "    api_key=\"Your ezlocalai API Key\",\n",
    "    server=\"http://localhost:8091\",\n",
    ")\n",
    "print(response)"
   ]
  },
  {
   "cell_type": "markdown",
   "metadata": {},
   "source": [
    "### AGiXT\n",
    "\n",
    "To use with [AGiXT](https://github.com/Josh-XT/AGiXT) in Python, make sure your AGiXT server is running then run the following code:\n"
   ]
  },
  {
   "cell_type": "code",
   "execution_count": null,
   "metadata": {},
   "outputs": [],
   "source": [
    "from convertanything import convertanything\n",
    "from pydantic import BaseModel\n",
    "from typing import List\n",
    "\n",
    "\n",
    "class Person(BaseModel):\n",
    "    name: str\n",
    "    age: int\n",
    "    email: str\n",
    "    interests: List[str]\n",
    "\n",
    "\n",
    "response = convertanything(\n",
    "    input_string=\"Hi my name is John Doe, I am 30 years old, my email is johndoe@example.com . I like to go fishing and watching football.\",\n",
    "    model=Person,\n",
    "    api_key=\"Your AGiXT API Key\",\n",
    "    server=\"http://localhost:7437\",\n",
    "    llm=\"Your AGiXT Agent Name\",\n",
    "    prompt_name=\"User Input\",\n",
    ")\n",
    "print(response)"
   ]
  },
  {
   "cell_type": "markdown",
   "metadata": {},
   "source": [
    "### OpenAI\n",
    "\n",
    "If you have an OpenAI API key, you can use it as follows with OpenAI language models:\n"
   ]
  },
  {
   "cell_type": "code",
   "execution_count": null,
   "metadata": {},
   "outputs": [],
   "source": [
    "from convertanything import convertanything\n",
    "from pydantic import BaseModel\n",
    "from typing import List\n",
    "\n",
    "\n",
    "class Person(BaseModel):\n",
    "    name: str\n",
    "    age: int\n",
    "    email: str\n",
    "    interests: List[str]\n",
    "\n",
    "\n",
    "response = convertanything(\n",
    "    input_string=\"Hi my name is John Doe, I am 30 years old, my email is johndoe@example.com . I like to go fishing.\",\n",
    "    model=Person,\n",
    "    api_key=\"Your OpenAI API Key\",\n",
    "    llm=\"gpt-3.5-turbo\",\n",
    ")\n",
    "print(response)"
   ]
  }
 ],
 "metadata": {
  "kernelspec": {
   "display_name": "Python 3",
   "language": "python",
   "name": "python3"
  },
  "language_info": {
   "codemirror_mode": {
    "name": "ipython",
    "version": 3
   },
   "file_extension": ".py",
   "mimetype": "text/x-python",
   "name": "python",
   "nbconvert_exporter": "python",
   "pygments_lexer": "ipython3",
   "version": "3.10.11"
  }
 },
 "nbformat": 4,
 "nbformat_minor": 2
}
