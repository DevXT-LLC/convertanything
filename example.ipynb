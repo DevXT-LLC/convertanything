{
 "cells": [
  {
   "cell_type": "markdown",
   "metadata": {},
   "source": [
    "# Example of convertanything with ezlocalai\n",
    "\n",
    "This notebook is an example of how to use the `ezlocalai` package to convert anything to any pydantic model. You can use OpenAI or any other OpenAI style proxy such as `ezlocalai` with `convertanything` to convert anything to any pydantic model.\n",
    "\n",
    "Set up ezlocalai if you haven't already: https://github.com/DevXT-LLC/ezlocalai\n",
    "\n",
    "Alternatively, you can remove the `server` and `llm` parameters and enter your OpenAI API key in the `api_key` parameter to use OpenAI API with `gpt-3.5-turbo` model.\n"
   ]
  },
  {
   "cell_type": "code",
   "execution_count": 1,
   "metadata": {},
   "outputs": [
    {
     "name": "stdout",
     "output_type": "stream",
     "text": [
      "name='John Doe' age=30 email='johndoe@example.com' interests=['fishing']\n"
     ]
    }
   ],
   "source": [
    "from convertanything import convertanything\n",
    "from pydantic import BaseModel\n",
    "from typing import List\n",
    "\n",
    "class Person(BaseModel):\n",
    "    name: str\n",
    "    age: int\n",
    "    email: str\n",
    "    interests: List[str]\n",
    "\n",
    "response = convertanything(\n",
    "    input_string=\"Hi my name is John Doe, I am 30 years old, my email is johndoe@example.com . I like to go fishing.\",\n",
    "    model=Person,\n",
    "    api_key=\"Your ezlocalai API Key\",\n",
    "    server=\"http://localhost:8091\",\n",
    "    llm=\"phi-2-dpo\",\n",
    ")\n",
    "print(response)"
   ]
  }
 ],
 "metadata": {
  "kernelspec": {
   "display_name": "Python 3",
   "language": "python",
   "name": "python3"
  },
  "language_info": {
   "codemirror_mode": {
    "name": "ipython",
    "version": 3
   },
   "file_extension": ".py",
   "mimetype": "text/x-python",
   "name": "python",
   "nbconvert_exporter": "python",
   "pygments_lexer": "ipython3",
   "version": "3.10.11"
  }
 },
 "nbformat": 4,
 "nbformat_minor": 2
}
