{
 "cells": [
  {
   "cell_type": "code",
   "execution_count": null,
   "metadata": {},
   "outputs": [],
   "source": [
    "import requests\n",
    "import time\n",
    "\n",
    "# Wait for server to come up instead of timing out.\n",
    "while True:\n",
    "    try:\n",
    "        voices = requests.get(\n",
    "            \"http://localhost:8091/v1/audio/voices\",\n",
    "            headers={\n",
    "                \"Content-Type\": \"application/json\",\n",
    "                \"Authorization\": f\"Your ezlocalai API Key\",\n",
    "                \"ngrok-skip-browser-warning\": \"true\",\n",
    "            },\n",
    "        )\n",
    "        if voices.status_code == 200:\n",
    "            break\n",
    "    except:\n",
    "        pass\n",
    "    time.sleep(1)\n",
    "\n",
    "print(voices.json())"
   ]
  },
  {
   "cell_type": "code",
   "execution_count": null,
   "metadata": {},
   "outputs": [],
   "source": [
    "from convertanything import convertanything\n",
    "from pydantic import BaseModel\n",
    "from typing import List\n",
    "\n",
    "\n",
    "class Person(BaseModel):\n",
    "    name: str\n",
    "    age: int\n",
    "    email: str\n",
    "    interests: List[str]\n",
    "\n",
    "\n",
    "response = convertanything(\n",
    "    input_string=\"Hi my name is John Doe, I am 30 years old, my email is johndoe@example.com . I like to go fishing and watching football.\",\n",
    "    model=Person,\n",
    "    api_key=\"Your ezlocalai API Key\",\n",
    "    server=\"http://localhost:8091\",\n",
    ")\n",
    "print(response)"
   ]
  }
 ],
 "metadata": {
  "kernelspec": {
   "display_name": "Python 3",
   "language": "python",
   "name": "python3"
  },
  "language_info": {
   "codemirror_mode": {
    "name": "ipython",
    "version": 3
   },
   "file_extension": ".py",
   "mimetype": "text/x-python",
   "name": "python",
   "nbconvert_exporter": "python",
   "pygments_lexer": "ipython3",
   "version": "3.10.11"
  }
 },
 "nbformat": 4,
 "nbformat_minor": 2
}
